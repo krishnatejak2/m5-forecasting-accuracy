{
 "cells": [
  {
   "cell_type": "code",
   "execution_count": 1,
   "metadata": {},
   "outputs": [],
   "source": [
    "import pandas as pd\n",
    "/Users/krishna/Kaggle_Kernels/m5-forecasting-accuracy"
   ]
  },
  {
   "cell_type": "code",
   "execution_count": 2,
   "metadata": {},
   "outputs": [],
   "source": [
    "calendar_df = pd.read_csv(\"./data/calendar.csv\")"
   ]
  },
  {
   "cell_type": "code",
   "execution_count": 3,
   "metadata": {},
   "outputs": [
    {
     "output_type": "execute_result",
     "data": {
      "text/plain": "         date  wm_yr_wk    weekday  wday  month  year    d event_name_1  \\\n0  2011-01-29     11101   Saturday     1      1  2011  d_1          NaN   \n1  2011-01-30     11101     Sunday     2      1  2011  d_2          NaN   \n2  2011-01-31     11101     Monday     3      1  2011  d_3          NaN   \n3  2011-02-01     11101    Tuesday     4      2  2011  d_4          NaN   \n4  2011-02-02     11101  Wednesday     5      2  2011  d_5          NaN   \n\n  event_type_1 event_name_2 event_type_2  snap_CA  snap_TX  snap_WI  \n0          NaN          NaN          NaN        0        0        0  \n1          NaN          NaN          NaN        0        0        0  \n2          NaN          NaN          NaN        0        0        0  \n3          NaN          NaN          NaN        1        1        0  \n4          NaN          NaN          NaN        1        0        1  ",
      "text/html": "<div>\n<style scoped>\n    .dataframe tbody tr th:only-of-type {\n        vertical-align: middle;\n    }\n\n    .dataframe tbody tr th {\n        vertical-align: top;\n    }\n\n    .dataframe thead th {\n        text-align: right;\n    }\n</style>\n<table border=\"1\" class=\"dataframe\">\n  <thead>\n    <tr style=\"text-align: right;\">\n      <th></th>\n      <th>date</th>\n      <th>wm_yr_wk</th>\n      <th>weekday</th>\n      <th>wday</th>\n      <th>month</th>\n      <th>year</th>\n      <th>d</th>\n      <th>event_name_1</th>\n      <th>event_type_1</th>\n      <th>event_name_2</th>\n      <th>event_type_2</th>\n      <th>snap_CA</th>\n      <th>snap_TX</th>\n      <th>snap_WI</th>\n    </tr>\n  </thead>\n  <tbody>\n    <tr>\n      <th>0</th>\n      <td>2011-01-29</td>\n      <td>11101</td>\n      <td>Saturday</td>\n      <td>1</td>\n      <td>1</td>\n      <td>2011</td>\n      <td>d_1</td>\n      <td>NaN</td>\n      <td>NaN</td>\n      <td>NaN</td>\n      <td>NaN</td>\n      <td>0</td>\n      <td>0</td>\n      <td>0</td>\n    </tr>\n    <tr>\n      <th>1</th>\n      <td>2011-01-30</td>\n      <td>11101</td>\n      <td>Sunday</td>\n      <td>2</td>\n      <td>1</td>\n      <td>2011</td>\n      <td>d_2</td>\n      <td>NaN</td>\n      <td>NaN</td>\n      <td>NaN</td>\n      <td>NaN</td>\n      <td>0</td>\n      <td>0</td>\n      <td>0</td>\n    </tr>\n    <tr>\n      <th>2</th>\n      <td>2011-01-31</td>\n      <td>11101</td>\n      <td>Monday</td>\n      <td>3</td>\n      <td>1</td>\n      <td>2011</td>\n      <td>d_3</td>\n      <td>NaN</td>\n      <td>NaN</td>\n      <td>NaN</td>\n      <td>NaN</td>\n      <td>0</td>\n      <td>0</td>\n      <td>0</td>\n    </tr>\n    <tr>\n      <th>3</th>\n      <td>2011-02-01</td>\n      <td>11101</td>\n      <td>Tuesday</td>\n      <td>4</td>\n      <td>2</td>\n      <td>2011</td>\n      <td>d_4</td>\n      <td>NaN</td>\n      <td>NaN</td>\n      <td>NaN</td>\n      <td>NaN</td>\n      <td>1</td>\n      <td>1</td>\n      <td>0</td>\n    </tr>\n    <tr>\n      <th>4</th>\n      <td>2011-02-02</td>\n      <td>11101</td>\n      <td>Wednesday</td>\n      <td>5</td>\n      <td>2</td>\n      <td>2011</td>\n      <td>d_5</td>\n      <td>NaN</td>\n      <td>NaN</td>\n      <td>NaN</td>\n      <td>NaN</td>\n      <td>1</td>\n      <td>0</td>\n      <td>1</td>\n    </tr>\n  </tbody>\n</table>\n</div>"
     },
     "metadata": {},
     "execution_count": 3
    }
   ],
   "source": [
    "calendar_df.head()"
   ]
  },
  {
   "cell_type": "code",
   "execution_count": 4,
   "metadata": {},
   "outputs": [
    {
     "output_type": "stream",
     "name": "stdout",
     "text": "<class 'pandas.core.frame.DataFrame'>\nRangeIndex: 1969 entries, 0 to 1968\nData columns (total 14 columns):\n #   Column        Non-Null Count  Dtype \n---  ------        --------------  ----- \n 0   date          1969 non-null   object\n 1   wm_yr_wk      1969 non-null   int64 \n 2   weekday       1969 non-null   object\n 3   wday          1969 non-null   int64 \n 4   month         1969 non-null   int64 \n 5   year          1969 non-null   int64 \n 6   d             1969 non-null   object\n 7   event_name_1  162 non-null    object\n 8   event_type_1  162 non-null    object\n 9   event_name_2  5 non-null      object\n 10  event_type_2  5 non-null      object\n 11  snap_CA       1969 non-null   int64 \n 12  snap_TX       1969 non-null   int64 \n 13  snap_WI       1969 non-null   int64 \ndtypes: int64(7), object(7)\nmemory usage: 215.5+ KB\n"
    }
   ],
   "source": [
    "calendar_df.info()"
   ]
  },
  {
   "cell_type": "code",
   "execution_count": null,
   "metadata": {},
   "outputs": [],
   "source": []
  },
  {
   "cell_type": "code",
   "execution_count": null,
   "metadata": {},
   "outputs": [],
   "source": []
  }
 ],
 "metadata": {
  "language_info": {
   "name": "python",
   "codemirror_mode": {
    "name": "ipython",
    "version": 3
   },
   "version": "3.7.5-final"
  },
  "orig_nbformat": 2,
  "file_extension": ".py",
  "mimetype": "text/x-python",
  "name": "python",
  "npconvert_exporter": "python",
  "pygments_lexer": "ipython3",
  "version": 3,
  "kernelspec": {
   "name": "python37564bitb943395b47cb4715a2520787ddfd62ee",
   "display_name": "Python 3.7.5 64-bit"
  }
 },
 "nbformat": 4,
 "nbformat_minor": 2
}